{
 "cells": [
  {
   "cell_type": "markdown",
   "metadata": {
    "deletable": false,
    "editable": false
   },
   "source": [
    "# Programming and Data Analysis\n",
    "\n",
    "> Assignment 4\n",
    "\n",
    "Kuo, Yao-Jen <yaojenkuo@ntu.edu.tw> from [DATAINPOINT](https://www.datainpoint.com)"
   ]
  },
  {
   "cell_type": "code",
   "execution_count": null,
   "metadata": {
    "deletable": false
   },
   "outputs": [],
   "source": [
    "import numpy as np\n",
    "import pandas as pd"
   ]
  },
  {
   "cell_type": "markdown",
   "metadata": {
    "deletable": false,
    "editable": false
   },
   "source": [
    "## Instructions\n",
    "\n",
    "- The assignment will be disconnected if idling over 10 minutes, we can reactivate a new session by clicking the assignment link again.\n",
    "- We've imported necessary modules at the top of each assignment.\n",
    "- We've put necessary files(if any) in the working directory.\n",
    "- We've defined the names of functions/inputs/parameters for you.\n",
    "- Write down your solution between the comments `### BEGIN SOLUTION` and `### END SOLUTION`.\n",
    "- It is NECESSARY to `return` the answer, tests will fail by just printing out the answer.\n",
    "- It is known that `SyntaxError` and `IndentationError` might break our `test_runner.py` and results in a zero point grade. It is highly recommended testing your solution by calling functions/methods in notebook or running tests before submission.\n",
    "- Running tests to see if your solutions are right:\n",
    "    - File -> Save Notebook to save exercises.ipynb.\n",
    "    - File -> New -> Terminal to open a Terminal.\n",
    "    - Use command `python test_runner.py` to run test.\n",
    "- When you are ready to submit, click File -> Export Notebook As -> Executable Script.\n",
    "- Rename the exported Python script with your student ID(e.g. `b01234567.py`) and upload to the Assignment session on NTU COOL/NTNU Moodle."
   ]
  },
  {
   "cell_type": "markdown",
   "metadata": {},
   "source": [
    "## 01. Define a function named `add_intercepts` which horizontally combines a `(m, 1)` array of zeros to a given array.\n",
    "\n",
    "- Expected inputs: `np.ndarray`\n",
    "- Expected outputs: `np.ndarray`"
   ]
  },
  {
   "cell_type": "code",
   "execution_count": null,
   "metadata": {},
   "outputs": [],
   "source": [
    "def add_intercepts(arr: np.ndarray) -> np.ndarray:\n",
    "    \"\"\"\n",
    "    >>> A = np.array([5, 5, 6, 6]).reshape(-1, 1)\n",
    "    >>> add_intercepts(A)\n",
    "    array([[0, 5],\n",
    "           [0, 5],\n",
    "           [0, 6],\n",
    "           [0, 6]])\n",
    "    >>> B = np.ones((5, 2), dtype=int)\n",
    "    >>> add_intercepts(B)\n",
    "    array([[0, 1, 1],\n",
    "           [0, 1, 1],\n",
    "           [0, 1, 1],\n",
    "           [0, 1, 1],\n",
    "           [0, 1, 1]])\n",
    "    \"\"\"\n",
    "    ### BEGIN SOLUTION\n",
    "    \n",
    "    ### END SOLUTION"
   ]
  },
  {
   "cell_type": "markdown",
   "metadata": {},
   "source": [
    "## 02. Define a function named `split_train_test` which splits a given array vertically according to specified parameters.\n",
    "\n",
    "- Expected inputs: `np.ndarray`\n",
    "- Expected outputs: `tuple`"
   ]
  },
  {
   "cell_type": "code",
   "execution_count": null,
   "metadata": {},
   "outputs": [],
   "source": [
    "def split_train_test(arr: np.ndarray, test_size: float) -> tuple:\n",
    "    \"\"\"\n",
    "    >>> A = np.ones((10, 2))\n",
    "    >>> A_train, A_test = split_train_test(A, test_size=0.3)\n",
    "    >>> A_train.shape\n",
    "    (7, 2)\n",
    "    >>> A_test.shape\n",
    "    (3, 2)\n",
    "    >>> B = np.ones((20, 3))\n",
    "    >>> B_train, B_test = split_train_test(B, test_size=0.4)\n",
    "    >>> B_train.shape\n",
    "    (12, 3)\n",
    "    >>> B_test.shape\n",
    "    (8, 3)\n",
    "    \"\"\"\n",
    "    ### BEGIN SOLUTION\n",
    "    \n",
    "    ### END SOLUTION"
   ]
  },
  {
   "cell_type": "markdown",
   "metadata": {},
   "source": [
    "## 03. Define a function named `is_invertible` which determines if an inverse matrix exists for a given matrix.\n",
    "\n",
    "- Expected inputs: `np.ndarray`\n",
    "- Expected outputs: `bool`"
   ]
  },
  {
   "cell_type": "code",
   "execution_count": null,
   "metadata": {},
   "outputs": [],
   "source": [
    "def is_invertible(arr: np.ndarray) -> bool:\n",
    "    \"\"\"\n",
    "    >>> A = np.array([1, 2, 2, 4]).reshape(2, 2)\n",
    "    >>> is_invertible(A)\n",
    "    False\n",
    "    >>> B = np.array([5, 5, 6, 6]).reshape(2, 2)\n",
    "    >>> is_invertible(B)\n",
    "    True\n",
    "    \"\"\"\n",
    "    ### BEGIN SOLUTION\n",
    "    \n",
    "    ### END SOLUTION"
   ]
  },
  {
   "cell_type": "markdown",
   "metadata": {},
   "source": [
    "## 04. Define a function named `create_diagonal_split_matrix` which generates a diagonal matrix given `n` as the order, `fill_int` as the elements outside the main diagonal and zeros as the main diagonal.\n",
    "\n",
    "- Expected inputs: `int`\n",
    "- Expected outputs: `np.ndarray`"
   ]
  },
  {
   "cell_type": "code",
   "execution_count": null,
   "metadata": {},
   "outputs": [],
   "source": [
    "def create_diagonal_split_matrix(n: int, fill_int: int) -> np.ndarray:\n",
    "    \"\"\"\n",
    "    >>> create_diagonal_split_matrix(2, 5566)\n",
    "    array([[   0, 5566],\n",
    "           [5566,    0]])\n",
    "    >>> create_diagonal_split_matrix(3, 55)\n",
    "    array([[ 0, 55, 55],\n",
    "           [55,  0, 55],\n",
    "           [55, 55,  0]])\n",
    "    >>> create_diagonal_split_matrix(4, 66)\n",
    "    array([[ 0, 66, 66, 66],\n",
    "           [66,  0, 66, 66],\n",
    "           [66, 66,  0, 66],\n",
    "           [66, 66, 66,  0]])\n",
    "    \"\"\"\n",
    "    ### BEGIN SOLUTION\n",
    "    \n",
    "    ### END SOLUTION"
   ]
  },
  {
   "cell_type": "markdown",
   "metadata": {},
   "source": [
    "## 05. Define a function named `create_square_matrix` which generates a square matrix with elements equal to the multiplication of row numbers and column numbers.\n",
    "\n",
    "- Expected inputs: `int`\n",
    "- Expected outputs: `np.ndarray`"
   ]
  },
  {
   "cell_type": "code",
   "execution_count": null,
   "metadata": {},
   "outputs": [],
   "source": [
    "def create_square_matrix(n: int) -> np.ndarray:\n",
    "    \"\"\"\n",
    "    >>> create_square_matrix(3)\n",
    "    array([[1, 2, 3],\n",
    "           [2, 4, 6],\n",
    "           [3, 6, 9]])\n",
    "    >>> create_square_matrix(4)\n",
    "    array([[ 1,  2,  3,  4],\n",
    "           [ 2,  4,  6,  8],\n",
    "           [ 3,  6,  9, 12],\n",
    "           [ 4,  8, 12, 16]])\n",
    "    >>> create_square_matrix(5)\n",
    "    array([[ 1,  2,  3,  4,  5],\n",
    "           [ 2,  4,  6,  8, 10],\n",
    "           [ 3,  6,  9, 12, 15],\n",
    "           [ 4,  8, 12, 16, 20],\n",
    "           [ 5, 10, 15, 20, 25]])\n",
    "    \"\"\"\n",
    "    ### BEGIN SOLUTION\n",
    "    \n",
    "    ### END SOLUTION"
   ]
  },
  {
   "cell_type": "markdown",
   "metadata": {},
   "source": [
    "## 06. Define a class named `MeanError` which instantiates objects with 2 methods `get_mse` and `get_mae` that is able to calculate the mean square error and mean absolute error between 2 equal length arrays.\n",
    "\n",
    "\\begin{equation}\n",
    "MSE = \\frac{1}{m}\\sum_{i=1}^{m}(y_i - \\hat{y_{i}})^2 \\\\\n",
    "MAE = \\frac{1}{m}\\sum_{i=1}^{m} \\mid y_i - \\hat{y_{i}} \\mid\n",
    "\\end{equation}\n",
    "\n",
    "Sources: <https://en.wikipedia.org/wiki/Mean_squared_error>, <https://en.wikipedia.org/wiki/Mean_absolute_error>\n",
    "\n",
    "- Expected inputs: `np.ndarray`\n",
    "- Expected outputs: `float`"
   ]
  },
  {
   "cell_type": "code",
   "execution_count": null,
   "metadata": {},
   "outputs": [],
   "source": [
    "class MeanError:\n",
    "    \"\"\"\n",
    "    >>> y = np.array([5, 5, 6, 6])\n",
    "    >>> y_hat = np.array([5, 5, 6, 6])\n",
    "    >>> me = MeanError(y, y_hat)\n",
    "    >>> me.get_mse()\n",
    "    0.0\n",
    "    >>> me.get_mae()\n",
    "    0.0\n",
    "    >>> y = np.array([5, 5, 6, 6])\n",
    "    >>> y_hat = np.array([5, 6, 7, 8])\n",
    "    >>> me = MeanError(y, y_hat)\n",
    "    >>> me.get_mse()\n",
    "    1.5\n",
    "    >>> me.get_mae()\n",
    "    1.0\n",
    "    \"\"\"\n",
    "    ### BEGIN SOLUTION\n",
    "    \n",
    "    ### END SOLUTION"
   ]
  },
  {
   "cell_type": "markdown",
   "metadata": {},
   "source": [
    "## 07. Define a function named `get_confusion_matrix` which generates a `(2, 2)` confusion matrix for 2 equal length arrays. The number of true negatives, true positives, false negatives, and false positives are placed at `[0, 0]`, `[1, 1]`, `[1, 0]`, and `[0, 1]` respectively. \n",
    "\n",
    "Source: <https://en.wikipedia.org/wiki/Confusion_matrix>\n",
    "\n",
    "- Expected inputs: `np.ndarray`\n",
    "- Expected outputs: `np.ndarray`"
   ]
  },
  {
   "cell_type": "code",
   "execution_count": null,
   "metadata": {},
   "outputs": [],
   "source": [
    "def get_confusion_matrix(y_true: np.ndarray, y_pred: np.ndarray) -> np.ndarray:\n",
    "    \"\"\"\n",
    "    >>> np.random.seed(0)\n",
    "    >>> y = np.random.randint(0, 2, size=100)\n",
    "    >>> np.random.seed(1)\n",
    "    >>> y_hat = np.random.randint(0, 2, size=100)\n",
    "    >>> get_confusion_matrix(y, y_hat)\n",
    "    array([[21, 23],\n",
    "           [24, 32]])\n",
    "    >>> np.random.seed(2)\n",
    "    >>> y = np.random.randint(0, 2, size=100)\n",
    "    >>> np.random.seed(3)\n",
    "    >>> y_hat = np.random.randint(0, 2, size=100)\n",
    "    >>> get_confusion_matrix(y, y_hat)\n",
    "    array([[27, 28],\n",
    "           [23, 22]])\n",
    "    \"\"\"\n",
    "    ### BEGIN SOLUTION\n",
    "    \n",
    "    ### END SOLUTION"
   ]
  },
  {
   "cell_type": "markdown",
   "metadata": {},
   "source": [
    "## 08. Define a function named `import_all_time_olympic_medals` that is able to import `all_time_olympic_medals.csv` in working directory.\n",
    "\n",
    "Source: <https://en.wikipedia.org/wiki/All-time_Olympic_Games_medal_table>\n",
    "\n",
    "- Expected inputs: None.\n",
    "- Expected outputs: `pd.DataFrame`"
   ]
  },
  {
   "cell_type": "code",
   "execution_count": null,
   "metadata": {},
   "outputs": [],
   "source": [
    "def import_all_time_olympic_medals() -> pd.DataFrame:\n",
    "    \"\"\"\n",
    "    >>> all_time_olympic_medals = import_all_time_olympic_medals()\n",
    "    >>> type(all_time_olympic_medals)\n",
    "    pandas.core.frame.DataFrame\n",
    "    >>> all_time_olympic_medals.shape\n",
    "    (157, 17)\n",
    "    \"\"\"\n",
    "    ### BEGIN SOLUTION\n",
    "    \n",
    "    ### END SOLUTION"
   ]
  },
  {
   "cell_type": "markdown",
   "metadata": {},
   "source": [
    "## 09. Define a function named `find_taiwan_from_olympic_medals` that is able to retrieve the data of Taiwan given `all_time_olympic_medals.csv` in working directory.\n",
    "\n",
    "PS Taiwan might not be \"Taiwan\" in Olympic data.\n",
    "\n",
    "Source: <https://en.wikipedia.org/wiki/All-time_Olympic_Games_medal_table>\n",
    "\n",
    "- Expected inputs: None.\n",
    "- Expected outputs: `pd.DataFrame`"
   ]
  },
  {
   "cell_type": "code",
   "execution_count": null,
   "metadata": {},
   "outputs": [],
   "source": [
    "def find_taiwan_from_olympic_medals() -> pd.DataFrame:\n",
    "    \"\"\"\n",
    "    >>> taiwan_from_olympic_medals = find_taiwan_from_olympic_medals()\n",
    "    >>> type(taiwan_from_olympic_medals)\n",
    "    pandas.core.frame.DataFrame\n",
    "    >>> taiwan_from_olympic_medals.shape\n",
    "    (1, 17)\n",
    "    \"\"\"\n",
    "    ### BEGIN SOLUTION\n",
    "    \n",
    "    ### END SOLUTION"
   ]
  },
  {
   "cell_type": "markdown",
   "metadata": {},
   "source": [
    "## 10. Define a function named `find_the_king_of_summer_winter_olympics` that is able to retrieve the data of the country that won the most gold medals in summer and winter Olympics, respectively given `all_time_olympic_medals.csv` in working directory.\n",
    "\n",
    "Source: <https://en.wikipedia.org/wiki/All-time_Olympic_Games_medal_table>\n",
    "\n",
    "- Expected inputs: None.\n",
    "- Expected outputs: `pd.DataFrame`."
   ]
  },
  {
   "cell_type": "code",
   "execution_count": null,
   "metadata": {},
   "outputs": [],
   "source": [
    "def find_the_king_of_summer_winter_olympics() -> pd.DataFrame:\n",
    "    \"\"\"\n",
    "    >>> the_king_of_summer_winter_olympics = find_the_king_of_summer_winter_olympics()\n",
    "    >>> type(the_king_of_summer_winter_olympics)\n",
    "    pandas.core.frame.DataFrame\n",
    "    >>> the_king_of_summer_winter_olympics.shape\n",
    "    (2, 17)\n",
    "    \"\"\"\n",
    "    ### BEGIN SOLUTION\n",
    "    \n",
    "    ### END SOLUTION"
   ]
  }
 ],
 "metadata": {
  "kernelspec": {
   "display_name": "Python Data Science",
   "language": "python",
   "name": "pyds"
  },
  "language_info": {
   "codemirror_mode": {
    "name": "ipython",
    "version": 3
   },
   "file_extension": ".py",
   "mimetype": "text/x-python",
   "name": "python",
   "nbconvert_exporter": "python",
   "pygments_lexer": "ipython3",
   "version": "3.8.10"
  }
 },
 "nbformat": 4,
 "nbformat_minor": 4
}
